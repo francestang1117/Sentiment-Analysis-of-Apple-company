{
 "cells": [
  {
   "cell_type": "code",
   "execution_count": 1,
   "id": "d0186ef9",
   "metadata": {},
   "outputs": [],
   "source": [
    "import numpy as np\n",
    "import pandas as pd"
   ]
  },
  {
   "cell_type": "code",
   "execution_count": 2,
   "id": "10c62e40",
   "metadata": {},
   "outputs": [],
   "source": [
    "tweet = pd.read_csv('./tweet/Tweet.csv')"
   ]
  },
  {
   "cell_type": "code",
   "execution_count": 3,
   "id": "3dcbde5c",
   "metadata": {},
   "outputs": [
    {
     "data": {
      "text/html": [
       "<div>\n",
       "<style scoped>\n",
       "    .dataframe tbody tr th:only-of-type {\n",
       "        vertical-align: middle;\n",
       "    }\n",
       "\n",
       "    .dataframe tbody tr th {\n",
       "        vertical-align: top;\n",
       "    }\n",
       "\n",
       "    .dataframe thead th {\n",
       "        text-align: right;\n",
       "    }\n",
       "</style>\n",
       "<table border=\"1\" class=\"dataframe\">\n",
       "  <thead>\n",
       "    <tr style=\"text-align: right;\">\n",
       "      <th></th>\n",
       "      <th>tweet_id</th>\n",
       "      <th>writer</th>\n",
       "      <th>post_date</th>\n",
       "      <th>body</th>\n",
       "      <th>comment_num</th>\n",
       "      <th>retweet_num</th>\n",
       "      <th>like_num</th>\n",
       "    </tr>\n",
       "  </thead>\n",
       "  <tbody>\n",
       "    <tr>\n",
       "      <th>0</th>\n",
       "      <td>550441509175443456</td>\n",
       "      <td>VisualStockRSRC</td>\n",
       "      <td>1420070457</td>\n",
       "      <td>lx21 made $10,008  on $AAPL -Check it out! htt...</td>\n",
       "      <td>0</td>\n",
       "      <td>0</td>\n",
       "      <td>1</td>\n",
       "    </tr>\n",
       "    <tr>\n",
       "      <th>1</th>\n",
       "      <td>550441672312512512</td>\n",
       "      <td>KeralaGuy77</td>\n",
       "      <td>1420070496</td>\n",
       "      <td>Insanity of today weirdo massive selling. $aap...</td>\n",
       "      <td>0</td>\n",
       "      <td>0</td>\n",
       "      <td>0</td>\n",
       "    </tr>\n",
       "    <tr>\n",
       "      <th>2</th>\n",
       "      <td>550441732014223360</td>\n",
       "      <td>DozenStocks</td>\n",
       "      <td>1420070510</td>\n",
       "      <td>S&amp;P100 #Stocks Performance $HD $LOW $SBUX $TGT...</td>\n",
       "      <td>0</td>\n",
       "      <td>0</td>\n",
       "      <td>0</td>\n",
       "    </tr>\n",
       "    <tr>\n",
       "      <th>3</th>\n",
       "      <td>550442977802207232</td>\n",
       "      <td>ShowDreamCar</td>\n",
       "      <td>1420070807</td>\n",
       "      <td>$GM $TSLA: Volkswagen Pushes 2014 Record Recal...</td>\n",
       "      <td>0</td>\n",
       "      <td>0</td>\n",
       "      <td>1</td>\n",
       "    </tr>\n",
       "    <tr>\n",
       "      <th>4</th>\n",
       "      <td>550443807834402816</td>\n",
       "      <td>i_Know_First</td>\n",
       "      <td>1420071005</td>\n",
       "      <td>Swing Trading: Up To 8.91% Return In 14 Days h...</td>\n",
       "      <td>0</td>\n",
       "      <td>0</td>\n",
       "      <td>1</td>\n",
       "    </tr>\n",
       "  </tbody>\n",
       "</table>\n",
       "</div>"
      ],
      "text/plain": [
       "             tweet_id           writer   post_date  \\\n",
       "0  550441509175443456  VisualStockRSRC  1420070457   \n",
       "1  550441672312512512      KeralaGuy77  1420070496   \n",
       "2  550441732014223360      DozenStocks  1420070510   \n",
       "3  550442977802207232     ShowDreamCar  1420070807   \n",
       "4  550443807834402816     i_Know_First  1420071005   \n",
       "\n",
       "                                                body  comment_num  \\\n",
       "0  lx21 made $10,008  on $AAPL -Check it out! htt...            0   \n",
       "1  Insanity of today weirdo massive selling. $aap...            0   \n",
       "2  S&P100 #Stocks Performance $HD $LOW $SBUX $TGT...            0   \n",
       "3  $GM $TSLA: Volkswagen Pushes 2014 Record Recal...            0   \n",
       "4  Swing Trading: Up To 8.91% Return In 14 Days h...            0   \n",
       "\n",
       "   retweet_num  like_num  \n",
       "0            0         1  \n",
       "1            0         0  \n",
       "2            0         0  \n",
       "3            0         1  \n",
       "4            0         1  "
      ]
     },
     "execution_count": 3,
     "metadata": {},
     "output_type": "execute_result"
    }
   ],
   "source": [
    "tweet.head()"
   ]
  },
  {
   "cell_type": "code",
   "execution_count": 4,
   "id": "dbb75731",
   "metadata": {},
   "outputs": [],
   "source": [
    "company = pd.read_csv('./tweet/Company_Tweet.csv')"
   ]
  },
  {
   "cell_type": "code",
   "execution_count": 5,
   "id": "d073e4b9",
   "metadata": {},
   "outputs": [
    {
     "data": {
      "text/html": [
       "<div>\n",
       "<style scoped>\n",
       "    .dataframe tbody tr th:only-of-type {\n",
       "        vertical-align: middle;\n",
       "    }\n",
       "\n",
       "    .dataframe tbody tr th {\n",
       "        vertical-align: top;\n",
       "    }\n",
       "\n",
       "    .dataframe thead th {\n",
       "        text-align: right;\n",
       "    }\n",
       "</style>\n",
       "<table border=\"1\" class=\"dataframe\">\n",
       "  <thead>\n",
       "    <tr style=\"text-align: right;\">\n",
       "      <th></th>\n",
       "      <th>tweet_id</th>\n",
       "      <th>ticker_symbol</th>\n",
       "    </tr>\n",
       "  </thead>\n",
       "  <tbody>\n",
       "    <tr>\n",
       "      <th>0</th>\n",
       "      <td>550803612197457920</td>\n",
       "      <td>AAPL</td>\n",
       "    </tr>\n",
       "    <tr>\n",
       "      <th>1</th>\n",
       "      <td>550803610825928706</td>\n",
       "      <td>AAPL</td>\n",
       "    </tr>\n",
       "    <tr>\n",
       "      <th>2</th>\n",
       "      <td>550803225113157632</td>\n",
       "      <td>AAPL</td>\n",
       "    </tr>\n",
       "    <tr>\n",
       "      <th>3</th>\n",
       "      <td>550802957370159104</td>\n",
       "      <td>AAPL</td>\n",
       "    </tr>\n",
       "    <tr>\n",
       "      <th>4</th>\n",
       "      <td>550802855129382912</td>\n",
       "      <td>AAPL</td>\n",
       "    </tr>\n",
       "  </tbody>\n",
       "</table>\n",
       "</div>"
      ],
      "text/plain": [
       "             tweet_id ticker_symbol\n",
       "0  550803612197457920          AAPL\n",
       "1  550803610825928706          AAPL\n",
       "2  550803225113157632          AAPL\n",
       "3  550802957370159104          AAPL\n",
       "4  550802855129382912          AAPL"
      ]
     },
     "execution_count": 5,
     "metadata": {},
     "output_type": "execute_result"
    }
   ],
   "source": [
    "company.head()"
   ]
  },
  {
   "cell_type": "code",
   "execution_count": 6,
   "id": "2ab0672c",
   "metadata": {},
   "outputs": [
    {
     "data": {
      "text/html": [
       "<div>\n",
       "<style scoped>\n",
       "    .dataframe tbody tr th:only-of-type {\n",
       "        vertical-align: middle;\n",
       "    }\n",
       "\n",
       "    .dataframe tbody tr th {\n",
       "        vertical-align: top;\n",
       "    }\n",
       "\n",
       "    .dataframe thead th {\n",
       "        text-align: right;\n",
       "    }\n",
       "</style>\n",
       "<table border=\"1\" class=\"dataframe\">\n",
       "  <thead>\n",
       "    <tr style=\"text-align: right;\">\n",
       "      <th></th>\n",
       "      <th>tweet_id</th>\n",
       "      <th>writer</th>\n",
       "      <th>post_date</th>\n",
       "      <th>body</th>\n",
       "      <th>comment_num</th>\n",
       "      <th>retweet_num</th>\n",
       "      <th>like_num</th>\n",
       "      <th>ticker_symbol</th>\n",
       "    </tr>\n",
       "  </thead>\n",
       "  <tbody>\n",
       "    <tr>\n",
       "      <th>0</th>\n",
       "      <td>550441509175443456</td>\n",
       "      <td>VisualStockRSRC</td>\n",
       "      <td>1420070457</td>\n",
       "      <td>lx21 made $10,008  on $AAPL -Check it out! htt...</td>\n",
       "      <td>0</td>\n",
       "      <td>0</td>\n",
       "      <td>1</td>\n",
       "      <td>AAPL</td>\n",
       "    </tr>\n",
       "    <tr>\n",
       "      <th>1</th>\n",
       "      <td>550441672312512512</td>\n",
       "      <td>KeralaGuy77</td>\n",
       "      <td>1420070496</td>\n",
       "      <td>Insanity of today weirdo massive selling. $aap...</td>\n",
       "      <td>0</td>\n",
       "      <td>0</td>\n",
       "      <td>0</td>\n",
       "      <td>AAPL</td>\n",
       "    </tr>\n",
       "    <tr>\n",
       "      <th>2</th>\n",
       "      <td>550441732014223360</td>\n",
       "      <td>DozenStocks</td>\n",
       "      <td>1420070510</td>\n",
       "      <td>S&amp;P100 #Stocks Performance $HD $LOW $SBUX $TGT...</td>\n",
       "      <td>0</td>\n",
       "      <td>0</td>\n",
       "      <td>0</td>\n",
       "      <td>AMZN</td>\n",
       "    </tr>\n",
       "    <tr>\n",
       "      <th>3</th>\n",
       "      <td>550442977802207232</td>\n",
       "      <td>ShowDreamCar</td>\n",
       "      <td>1420070807</td>\n",
       "      <td>$GM $TSLA: Volkswagen Pushes 2014 Record Recal...</td>\n",
       "      <td>0</td>\n",
       "      <td>0</td>\n",
       "      <td>1</td>\n",
       "      <td>TSLA</td>\n",
       "    </tr>\n",
       "    <tr>\n",
       "      <th>4</th>\n",
       "      <td>550443807834402816</td>\n",
       "      <td>i_Know_First</td>\n",
       "      <td>1420071005</td>\n",
       "      <td>Swing Trading: Up To 8.91% Return In 14 Days h...</td>\n",
       "      <td>0</td>\n",
       "      <td>0</td>\n",
       "      <td>1</td>\n",
       "      <td>AAPL</td>\n",
       "    </tr>\n",
       "  </tbody>\n",
       "</table>\n",
       "</div>"
      ],
      "text/plain": [
       "             tweet_id           writer   post_date  \\\n",
       "0  550441509175443456  VisualStockRSRC  1420070457   \n",
       "1  550441672312512512      KeralaGuy77  1420070496   \n",
       "2  550441732014223360      DozenStocks  1420070510   \n",
       "3  550442977802207232     ShowDreamCar  1420070807   \n",
       "4  550443807834402816     i_Know_First  1420071005   \n",
       "\n",
       "                                                body  comment_num  \\\n",
       "0  lx21 made $10,008  on $AAPL -Check it out! htt...            0   \n",
       "1  Insanity of today weirdo massive selling. $aap...            0   \n",
       "2  S&P100 #Stocks Performance $HD $LOW $SBUX $TGT...            0   \n",
       "3  $GM $TSLA: Volkswagen Pushes 2014 Record Recal...            0   \n",
       "4  Swing Trading: Up To 8.91% Return In 14 Days h...            0   \n",
       "\n",
       "   retweet_num  like_num ticker_symbol  \n",
       "0            0         1          AAPL  \n",
       "1            0         0          AAPL  \n",
       "2            0         0          AMZN  \n",
       "3            0         1          TSLA  \n",
       "4            0         1          AAPL  "
      ]
     },
     "execution_count": 6,
     "metadata": {},
     "output_type": "execute_result"
    }
   ],
   "source": [
    "# merge the tweet dataset and company dataset via tweet_id\n",
    "tweet_company = pd.merge(tweet, company, on = \"tweet_id\", how = \"inner\")\n",
    "tweet_company.head()"
   ]
  },
  {
   "cell_type": "code",
   "execution_count": 7,
   "id": "5ff4a27d",
   "metadata": {},
   "outputs": [
    {
     "data": {
      "text/html": [
       "<div>\n",
       "<style scoped>\n",
       "    .dataframe tbody tr th:only-of-type {\n",
       "        vertical-align: middle;\n",
       "    }\n",
       "\n",
       "    .dataframe tbody tr th {\n",
       "        vertical-align: top;\n",
       "    }\n",
       "\n",
       "    .dataframe thead th {\n",
       "        text-align: right;\n",
       "    }\n",
       "</style>\n",
       "<table border=\"1\" class=\"dataframe\">\n",
       "  <thead>\n",
       "    <tr style=\"text-align: right;\">\n",
       "      <th></th>\n",
       "      <th>tweet_id</th>\n",
       "      <th>writer</th>\n",
       "      <th>post_date</th>\n",
       "      <th>body</th>\n",
       "      <th>comment_num</th>\n",
       "      <th>retweet_num</th>\n",
       "      <th>like_num</th>\n",
       "      <th>ticker_symbol</th>\n",
       "    </tr>\n",
       "  </thead>\n",
       "  <tbody>\n",
       "    <tr>\n",
       "      <th>0</th>\n",
       "      <td>550441509175443456</td>\n",
       "      <td>VisualStockRSRC</td>\n",
       "      <td>1420070457</td>\n",
       "      <td>lx21 made $10,008  on $AAPL -Check it out! htt...</td>\n",
       "      <td>0</td>\n",
       "      <td>0</td>\n",
       "      <td>1</td>\n",
       "      <td>AAPL</td>\n",
       "    </tr>\n",
       "    <tr>\n",
       "      <th>1</th>\n",
       "      <td>550441672312512512</td>\n",
       "      <td>KeralaGuy77</td>\n",
       "      <td>1420070496</td>\n",
       "      <td>Insanity of today weirdo massive selling. $aap...</td>\n",
       "      <td>0</td>\n",
       "      <td>0</td>\n",
       "      <td>0</td>\n",
       "      <td>AAPL</td>\n",
       "    </tr>\n",
       "    <tr>\n",
       "      <th>4</th>\n",
       "      <td>550443807834402816</td>\n",
       "      <td>i_Know_First</td>\n",
       "      <td>1420071005</td>\n",
       "      <td>Swing Trading: Up To 8.91% Return In 14 Days h...</td>\n",
       "      <td>0</td>\n",
       "      <td>0</td>\n",
       "      <td>1</td>\n",
       "      <td>AAPL</td>\n",
       "    </tr>\n",
       "    <tr>\n",
       "      <th>6</th>\n",
       "      <td>550443808606126081</td>\n",
       "      <td>aaplstocknews</td>\n",
       "      <td>1420071005</td>\n",
       "      <td>Swing Trading: Up To 8.91% Return In 14 Days h...</td>\n",
       "      <td>0</td>\n",
       "      <td>0</td>\n",
       "      <td>1</td>\n",
       "      <td>AAPL</td>\n",
       "    </tr>\n",
       "    <tr>\n",
       "      <th>8</th>\n",
       "      <td>550443809700851716</td>\n",
       "      <td>iknowfirst</td>\n",
       "      <td>1420071005</td>\n",
       "      <td>Swing Trading: Up To 8.91% Return In 14 Days h...</td>\n",
       "      <td>0</td>\n",
       "      <td>0</td>\n",
       "      <td>1</td>\n",
       "      <td>AAPL</td>\n",
       "    </tr>\n",
       "  </tbody>\n",
       "</table>\n",
       "</div>"
      ],
      "text/plain": [
       "             tweet_id           writer   post_date  \\\n",
       "0  550441509175443456  VisualStockRSRC  1420070457   \n",
       "1  550441672312512512      KeralaGuy77  1420070496   \n",
       "4  550443807834402816     i_Know_First  1420071005   \n",
       "6  550443808606126081    aaplstocknews  1420071005   \n",
       "8  550443809700851716       iknowfirst  1420071005   \n",
       "\n",
       "                                                body  comment_num  \\\n",
       "0  lx21 made $10,008  on $AAPL -Check it out! htt...            0   \n",
       "1  Insanity of today weirdo massive selling. $aap...            0   \n",
       "4  Swing Trading: Up To 8.91% Return In 14 Days h...            0   \n",
       "6  Swing Trading: Up To 8.91% Return In 14 Days h...            0   \n",
       "8  Swing Trading: Up To 8.91% Return In 14 Days h...            0   \n",
       "\n",
       "   retweet_num  like_num ticker_symbol  \n",
       "0            0         1          AAPL  \n",
       "1            0         0          AAPL  \n",
       "4            0         1          AAPL  \n",
       "6            0         1          AAPL  \n",
       "8            0         1          AAPL  "
      ]
     },
     "execution_count": 7,
     "metadata": {},
     "output_type": "execute_result"
    }
   ],
   "source": [
    "# filter dataset via apple\n",
    "tweet_cy = tweet_company[tweet_company['ticker_symbol'] == 'AAPL']\n",
    "tweet_cy.head()"
   ]
  },
  {
   "cell_type": "code",
   "execution_count": 8,
   "id": "9cb4a55c",
   "metadata": {},
   "outputs": [
    {
     "data": {
      "text/plain": [
       "0          lx21 made $10,008  on $AAPL -Check it out! htt...\n",
       "1          Insanity of today weirdo massive selling. $aap...\n",
       "4          Swing Trading: Up To 8.91% Return In 14 Days h...\n",
       "6          Swing Trading: Up To 8.91% Return In 14 Days h...\n",
       "8          Swing Trading: Up To 8.91% Return In 14 Days h...\n",
       "                                 ...                        \n",
       "4336437    Imagine calling your broker-dealer and wanting...\n",
       "4336438    $AAPL yearly~ Heck of a year.. Jan. 2, 1999~ar...\n",
       "4336439    That $SPY $SPX puuump in the last hour was the...\n",
       "4336442    I don't discriminate. I own both $aapl and $ms...\n",
       "4336444    $AAPL #patent 10,522,475 Vertical interconnect...\n",
       "Name: body, Length: 1425013, dtype: object"
      ]
     },
     "execution_count": 8,
     "metadata": {},
     "output_type": "execute_result"
    }
   ],
   "source": [
    "# check the body of tweets\n",
    "body = tweet_cy[\"body\"]\n",
    "body"
   ]
  },
  {
   "cell_type": "code",
   "execution_count": 9,
   "id": "8e2a180b",
   "metadata": {},
   "outputs": [],
   "source": [
    "import re"
   ]
  },
  {
   "cell_type": "code",
   "execution_count": 10,
   "id": "541c7787",
   "metadata": {},
   "outputs": [
    {
     "data": {
      "text/plain": [
       "0          lx21 made $10,008  on $AAPL -Check it out! htt...\n",
       "1          Insanity of today weirdo massive selling. $aap...\n",
       "4          Swing Trading: Up To 8.91% Return In 14 Days h...\n",
       "6          Swing Trading: Up To 8.91% Return In 14 Days h...\n",
       "8          Swing Trading: Up To 8.91% Return In 14 Days h...\n",
       "                                 ...                        \n",
       "4336437    Imagine calling your broker-dealer and wanting...\n",
       "4336438    $AAPL yearly~ Heck of a year.. Jan. 2, 1999~ar...\n",
       "4336439    That $SPY $SPX puuump in the last hour was the...\n",
       "4336442    I don't discriminate. I own both $aapl and $ms...\n",
       "4336444    $AAPL #patent 10,522,475 Vertical interconnect...\n",
       "Name: body, Length: 1425013, dtype: object"
      ]
     },
     "execution_count": 10,
     "metadata": {},
     "output_type": "execute_result"
    }
   ],
   "source": [
    "# remove usernames\n",
    "body = body.apply(lambda x: re.sub(r'@[^ ]+', '', x))\n",
    "body"
   ]
  },
  {
   "cell_type": "code",
   "execution_count": 11,
   "id": "e86c3c06",
   "metadata": {},
   "outputs": [
    {
     "data": {
      "text/plain": [
       "0          lx21 made $10,008  on $AAPL -Check it out!  Le...\n",
       "1          Insanity of today weirdo massive selling. $aap...\n",
       "4          Swing Trading: Up To 8.91% Return In 14 Days  ...\n",
       "6          Swing Trading: Up To 8.91% Return In 14 Days  ...\n",
       "8          Swing Trading: Up To 8.91% Return In 14 Days  ...\n",
       "                                 ...                        \n",
       "4336437    Imagine calling your broker-dealer and wanting...\n",
       "4336438    $AAPL yearly~ Heck of a year.. Jan. 2, 1999~ar...\n",
       "4336439    That $SPY $SPX puuump in the last hour was the...\n",
       "4336442    I don't discriminate. I own both $aapl and $ms...\n",
       "4336444    $AAPL #patent 10,522,475 Vertical interconnect...\n",
       "Name: body, Length: 1425013, dtype: object"
      ]
     },
     "execution_count": 11,
     "metadata": {},
     "output_type": "execute_result"
    }
   ],
   "source": [
    "# remove URLs\n",
    "body = body.apply(lambda x: re.sub(r'https?://\\S+|www\\.\\S+', '', x))\n",
    "body"
   ]
  },
  {
   "cell_type": "code",
   "execution_count": 12,
   "id": "1a228ca5",
   "metadata": {},
   "outputs": [
    {
     "data": {
      "text/plain": [
       "0          lx21 made $10,008  on $AAPL -Check it out!  Le...\n",
       "1          Insanity of today weirdo massive selling. $aap...\n",
       "4          Swing Trading: Up To 8.91% Return In 14 Days  ...\n",
       "6          Swing Trading: Up To 8.91% Return In 14 Days  ...\n",
       "8          Swing Trading: Up To 8.91% Return In 14 Days  ...\n",
       "                                 ...                        \n",
       "4336437    Imagine calling your broker-dealer and wanting...\n",
       "4336438    $AAPL yearly~ Heck of a year.. Jan. 2, 1999~ar...\n",
       "4336439    That $SPY $SPX puuump in the last hour was the...\n",
       "4336442    I don't discriminate. I own both $aapl and $ms...\n",
       "4336444    $AAPL patent 10,522,475 Vertical interconnects...\n",
       "Name: body, Length: 1425013, dtype: object"
      ]
     },
     "execution_count": 12,
     "metadata": {},
     "output_type": "execute_result"
    }
   ],
   "source": [
    "# remove hashtags\n",
    "body = body.apply(lambda x: re.sub(r'#', '', x))\n",
    "body"
   ]
  },
  {
   "cell_type": "code",
   "execution_count": 13,
   "id": "584de5fc",
   "metadata": {},
   "outputs": [
    {
     "data": {
      "text/plain": [
       "0          lx21 made 10008  on AAPL Check it out  Learn h...\n",
       "1          Insanity of today weirdo massive selling aapl ...\n",
       "4          Swing Trading Up To 891 Return In 14 Days  swi...\n",
       "6          Swing Trading Up To 891 Return In 14 Days  swi...\n",
       "8          Swing Trading Up To 891 Return In 14 Days  swi...\n",
       "                                 ...                        \n",
       "4336437    Imagine calling your brokerdealer and wanting ...\n",
       "4336438    AAPL yearly Heck of a year Jan 2 1999around 2 ...\n",
       "4336439    That SPY SPX puuump in the last hour was the E...\n",
       "4336442        I dont discriminate I own both aapl and msft \n",
       "4336444    AAPL patent 10522475 Vertical interconnects fo...\n",
       "Name: body, Length: 1425013, dtype: object"
      ]
     },
     "execution_count": 13,
     "metadata": {},
     "output_type": "execute_result"
    }
   ],
   "source": [
    "# remove punctations\n",
    "body = body.apply(lambda x: re.sub(r'[^\\w\\s]', '', x))\n",
    "body"
   ]
  },
  {
   "cell_type": "code",
   "execution_count": 14,
   "id": "6dc86d0a",
   "metadata": {},
   "outputs": [
    {
     "data": {
      "text/plain": [
       "0          lx21 made 10008  on aapl check it out  learn h...\n",
       "1          insanity of today weirdo massive selling aapl ...\n",
       "4          swing trading up to 891 return in 14 days  swi...\n",
       "6          swing trading up to 891 return in 14 days  swi...\n",
       "8          swing trading up to 891 return in 14 days  swi...\n",
       "                                 ...                        \n",
       "4336437    imagine calling your brokerdealer and wanting ...\n",
       "4336438    aapl yearly heck of a year jan 2 1999around 2 ...\n",
       "4336439    that spy spx puuump in the last hour was the e...\n",
       "4336442        i dont discriminate i own both aapl and msft \n",
       "4336444    aapl patent 10522475 vertical interconnects fo...\n",
       "Name: body, Length: 1425013, dtype: object"
      ]
     },
     "execution_count": 14,
     "metadata": {},
     "output_type": "execute_result"
    }
   ],
   "source": [
    "body = body.apply(lambda x: x.lower())\n",
    "body"
   ]
  },
  {
   "cell_type": "code",
   "execution_count": 28,
   "id": "e079447d",
   "metadata": {},
   "outputs": [
    {
     "name": "stderr",
     "output_type": "stream",
     "text": [
      "[nltk_data] Downloading package stopwords to\n",
      "[nltk_data]     /Users/tangjiaye/nltk_data...\n",
      "[nltk_data]   Package stopwords is already up-to-date!\n",
      "[nltk_data] Downloading package punkt to /Users/tangjiaye/nltk_data...\n",
      "[nltk_data]   Package punkt is already up-to-date!\n",
      "[nltk_data] Downloading package averaged_perceptron_tagger to\n",
      "[nltk_data]     /Users/tangjiaye/nltk_data...\n",
      "[nltk_data]   Package averaged_perceptron_tagger is already up-to-\n",
      "[nltk_data]       date!\n"
     ]
    },
    {
     "data": {
      "text/plain": [
       "0          make aapl check learn howtotrade exe watt imrs...\n",
       "1          insanity today weirdo massive selling aapl bid...\n",
       "4          swing trade return day swingtrading forecast t...\n",
       "6          swing trade return day swingtrading forecast t...\n",
       "8          swing trade return day swingtrading forecast t...\n",
       "                                 ...                        \n",
       "4336437    imagine call brokerdealer wanting buy good chu...\n",
       "4336438    aapl yearly heck year jan buck lolhave friend ...\n",
       "4336439    spy spx puuump last hour eoy eoq eom top windo...\n",
       "4336442                          dont discriminate aapl msft\n",
       "4336444    aapl patent vertical interconnects self shield...\n",
       "Name: body, Length: 1425013, dtype: object"
      ]
     },
     "execution_count": 28,
     "metadata": {},
     "output_type": "execute_result"
    }
   ],
   "source": [
    "# tokenization, remove stopwords and lemmatizing\n",
    "import nltk\n",
    "from nltk import pos_tag, word_tokenize\n",
    "from nltk.corpus import stopwords, wordnet\n",
    "from nltk.stem import WordNetLemmatizer\n",
    "\n",
    "nltk.download('stopwords')\n",
    "nltk.download('punkt')\n",
    "nltk.download('averaged_perceptron_tagger')\n",
    "\n",
    "stop_words = stopwords.words('english')\n",
    "\n",
    "def get_word_tag(tree_tag):\n",
    "    if tree_tag.startswith('J'):\n",
    "        return wordnet.ADJ\n",
    "    elif tree_tag.startswith('V'):\n",
    "        return wordnet.VERB\n",
    "    elif tree_tag.startswith('N'):\n",
    "        return wordnet.NOUN\n",
    "    elif tree_tag.startswith('R'):\n",
    "        return wordnet.ADV\n",
    "    else:\n",
    "        return None\n",
    "\n",
    "lm = WordNetLemmatizer()\n",
    "def remove_stopwords(content):\n",
    "    words = word_tokenize(content)\n",
    "    tags = pos_tag(words)\n",
    "    word_tag = map(lambda x: (x[0], get_word_tag(x[1])), tags)\n",
    "    lemm = []\n",
    "    for token, tag in word_tag:\n",
    "        if tag is None:\n",
    "            lemm.append(lm.lemmatize(token))\n",
    "        else:\n",
    "            lemm.append(lm.lemmatize(token, tag))\n",
    "    lemm = [w for w in lemm if w.isalpha()]\n",
    "    lemm = [w for w in lemm if not w in stop_words]\n",
    "    \n",
    "    return ' '.join(lemm)\n",
    "body = body.apply(remove_stopwords)\n",
    "body"
   ]
  },
  {
   "cell_type": "code",
   "execution_count": 29,
   "id": "f862c115",
   "metadata": {},
   "outputs": [],
   "source": [
    "tweet_cy_new = tweet_cy.copy()\n",
    "tweet_cy_new['body'] = body\n",
    "tweet_cy_new['body'].to_csv(\"output.csv\")"
   ]
  },
  {
   "cell_type": "code",
   "execution_count": null,
   "id": "f4510a92",
   "metadata": {},
   "outputs": [],
   "source": []
  }
 ],
 "metadata": {
  "kernelspec": {
   "display_name": "Python 3 (ipykernel)",
   "language": "python",
   "name": "python3"
  },
  "language_info": {
   "codemirror_mode": {
    "name": "ipython",
    "version": 3
   },
   "file_extension": ".py",
   "mimetype": "text/x-python",
   "name": "python",
   "nbconvert_exporter": "python",
   "pygments_lexer": "ipython3",
   "version": "3.9.12"
  }
 },
 "nbformat": 4,
 "nbformat_minor": 5
}
